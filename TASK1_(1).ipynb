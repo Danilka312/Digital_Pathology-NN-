{
  "cells": [
    {
      "cell_type": "markdown",
      "metadata": {
        "id": "atqZGIIyNSBb"
      },
      "source": [
        "#**Практическое задание №1**"
      ]
    },
    {
      "cell_type": "markdown",
      "metadata": {
        "id": "ga5g3lUhNNBy"
      },
      "source": [
        "Установка необходимых пакетов:"
      ]
    },
    {
      "cell_type": "code",
      "execution_count": 1,
      "metadata": {
        "id": "TGBk36LpukIu",
        "colab": {
          "base_uri": "https://localhost:8080/"
        },
        "outputId": "f356b8b1-e0c3-4438-d067-f20b37f61e96"
      },
      "outputs": [
        {
          "output_type": "stream",
          "name": "stdout",
          "text": [
            "Requirement already satisfied: gdown in /usr/local/lib/python3.10/dist-packages (5.2.0)\n",
            "Requirement already satisfied: beautifulsoup4 in /usr/local/lib/python3.10/dist-packages (from gdown) (4.12.3)\n",
            "Requirement already satisfied: filelock in /usr/local/lib/python3.10/dist-packages (from gdown) (3.16.1)\n",
            "Requirement already satisfied: requests[socks] in /usr/local/lib/python3.10/dist-packages (from gdown) (2.32.3)\n",
            "Requirement already satisfied: tqdm in /usr/local/lib/python3.10/dist-packages (from gdown) (4.66.6)\n",
            "Requirement already satisfied: soupsieve>1.2 in /usr/local/lib/python3.10/dist-packages (from beautifulsoup4->gdown) (2.6)\n",
            "Requirement already satisfied: charset-normalizer<4,>=2 in /usr/local/lib/python3.10/dist-packages (from requests[socks]->gdown) (3.4.0)\n",
            "Requirement already satisfied: idna<4,>=2.5 in /usr/local/lib/python3.10/dist-packages (from requests[socks]->gdown) (3.10)\n",
            "Requirement already satisfied: urllib3<3,>=1.21.1 in /usr/local/lib/python3.10/dist-packages (from requests[socks]->gdown) (2.2.3)\n",
            "Requirement already satisfied: certifi>=2017.4.17 in /usr/local/lib/python3.10/dist-packages (from requests[socks]->gdown) (2024.8.30)\n",
            "Requirement already satisfied: PySocks!=1.5.7,>=1.5.6 in /usr/local/lib/python3.10/dist-packages (from requests[socks]->gdown) (1.7.1)\n"
          ]
        }
      ],
      "source": [
        "!pip install -q tqdm\n",
        "!pip install --upgrade --no-cache-dir gdown"
      ]
    },
    {
      "cell_type": "markdown",
      "metadata": {
        "id": "2vQDLyHEO1Ux"
      },
      "source": [
        "Монтирование Вашего Google Drive к текущему окружению:"
      ]
    },
    {
      "cell_type": "code",
      "execution_count": 2,
      "metadata": {
        "id": "5G5KkA1Nu5M9",
        "colab": {
          "base_uri": "https://localhost:8080/"
        },
        "outputId": "4153084b-0c11-427d-958c-de573f9a73ac"
      },
      "outputs": [
        {
          "output_type": "stream",
          "name": "stdout",
          "text": [
            "Mounted at /content/drive\n"
          ]
        }
      ],
      "source": [
        "from google.colab import drive\n",
        "drive.mount('/content/drive', force_remount=True)"
      ]
    },
    {
      "cell_type": "code",
      "source": [
        "cd /content/drive/MyDrive/DL/test"
      ],
      "metadata": {
        "colab": {
          "base_uri": "https://localhost:8080/"
        },
        "id": "NFnm-jztw7uE",
        "outputId": "916728a6-dfb7-4a70-d566-ccc49e58904a"
      },
      "execution_count": 3,
      "outputs": [
        {
          "output_type": "stream",
          "name": "stdout",
          "text": [
            "/content/drive/MyDrive/DL/test\n"
          ]
        }
      ]
    },
    {
      "cell_type": "markdown",
      "metadata": {
        "id": "0Num5lHV6912"
      },
      "source": [
        "Константы, которые пригодятся в коде далее, и ссылки (gdrive идентификаторы) на предоставляемые наборы данных:"
      ]
    },
    {
      "cell_type": "code",
      "execution_count": null,
      "metadata": {
        "id": "ab2yCwDm7Fqb"
      },
      "outputs": [],
      "source": [
        "'''\n",
        "EVALUATE_ONLY = True\n",
        "TEST_ON_LARGE_DATASET = True\n",
        "TISSUE_CLASSES = ('ADI', 'BACK', 'DEB', 'LYM', 'MUC', 'MUS', 'NORM', 'STR', 'TUM')\n",
        "DATASETS_LINKS = {\n",
        "    'train': '1kT3GtZWcLqeuPECEGNXpMNi3jp9LZY_B',\n",
        "    'train_small': '1IMMjP6oUFNmrDnmPRpuFt5vzHDGfELMY',\n",
        "    'train_tiny': '1Ay1nq2ngf4XyVgE-d8S_z19dfD5PNszy',\n",
        "    'test': '1EdCDUOB3bJLSkt117v-eSbIXiERur1Xr',\n",
        "    'test_small': '1vF2YdizwJmsuzEY0hasrFnpE-uPoGAO_',\n",
        "    'test_tiny': '1-2mhSO6nMSkm1Q61pbQb_QAwsGE_FuIu'\n",
        "}\n",
        "'''"
      ]
    },
    {
      "cell_type": "code",
      "source": [
        "\"\"\"\n",
        "import gdown\n",
        "\n",
        "DATASETS_LINKS = {\n",
        "    'train': '1XtQzVQ5XbrfxpLHJuL0XBGJ5U7CS-cLi',\n",
        "    'train_small': '1qd45xXfDwdZjktLFwQb-et-mAaFeCzOR',\n",
        "    'train_tiny': '1I-2ZOuXLd4QwhZQQltp817Kn3J0Xgbui',\n",
        "    'test': '1RfPou3pFKpuHDJZ-D9XDFzgvwpUBFlDr',\n",
        "    'test_small': '1wbRsog0n7uGlHIPGLhyN-PMeT2kdQ2lI',\n",
        "    'test_tiny': '1viiB0s041CNsAK4itvX8PnYthJ-MDnQc'\n",
        "}\n",
        "\"\"\"\n",
        "'''for name, file_id in DATASETS_LINKS.items():\n",
        "    url = f\"https://drive.google.com/uc?export=download&id={file_id}\"\n",
        "    output = f\"{name}.zip\"  # Название файла для сохранения\n",
        "    print(f\"Скачивание {name} из {url}...\")\n",
        "    gdown.download(url, output, quiet=False)\n",
        "\n",
        "print(\"Скачивание завершено!\")\n",
        "'''\n",
        "\"\"\""
      ],
      "metadata": {
        "colab": {
          "base_uri": "https://localhost:8080/",
          "height": 87
        },
        "id": "Ah9EbMSNxMik",
        "outputId": "30b67ee6-e051-4771-8d4a-919ee8891dfb"
      },
      "execution_count": null,
      "outputs": [
        {
          "output_type": "execute_result",
          "data": {
            "text/plain": [
              "'\\nDATASETS_LINKS = {\\n    \\'train\\': \\'1XtQzVQ5XbrfxpLHJuL0XBGJ5U7CS-cLi\\',\\n    \\'train_small\\': \\'1qd45xXfDwdZjktLFwQb-et-mAaFeCzOR\\',\\n    \\'train_tiny\\': \\'1I-2ZOuXLd4QwhZQQltp817Kn3J0Xgbui\\',\\n    \\'test\\': \\'1RfPou3pFKpuHDJZ-D9XDFzgvwpUBFlDr\\',\\n    \\'test_small\\': \\'1wbRsog0n7uGlHIPGLhyN-PMeT2kdQ2lI\\',\\n    \\'test_tiny\\': \\'1viiB0s041CNsAK4itvX8PnYthJ-MDnQc\\'\\n}\\n\\n\\'\\'\\'for name, file_id in DATASETS_LINKS.items():\\n    url = f\"https://drive.google.com/uc?export=download&id={file_id}\"\\n    output = f\"{name}.zip\"  # Название файла для сохранения\\n    print(f\"Скачивание {name} из {url}...\")\\n    gdown.download(url, output, quiet=False)\\n\\nprint(\"Скачивание завершено!\")\\n\\'\\'\\'\\n'"
            ],
            "application/vnd.google.colaboratory.intrinsic+json": {
              "type": "string"
            }
          },
          "metadata": {},
          "execution_count": 7
        }
      ]
    },
    {
      "cell_type": "markdown",
      "metadata": {
        "id": "fgY-ux5qOI0k"
      },
      "source": [
        "Импорт необходимых зависимостей:"
      ]
    },
    {
      "cell_type": "code",
      "execution_count": null,
      "metadata": {
        "id": "kLHQhqiSIyvK"
      },
      "outputs": [],
      "source": [
        "'''\n",
        "from pathlib import Path\n",
        "import numpy as np\n",
        "from typing import List\n",
        "from tqdm.notebook import tqdm\n",
        "from time import sleep\n",
        "from PIL import Image\n",
        "import IPython.display\n",
        "from sklearn.metrics import balanced_accuracy_score\n",
        "import gdown\n",
        "import matplotlib.pyplot as plt\n",
        "from collections import Counter\n",
        "\n",
        "import random\n",
        "import torch\n",
        "import torchvision.transforms as transforms\n",
        "'''"
      ]
    },
    {
      "cell_type": "markdown",
      "metadata": {
        "id": "zKLI3lUyMYO9"
      },
      "source": [
        "(ЗАМЕНИЛ НА СОБСТВЕННЫЙ)\n",
        "---\n",
        "### Класс Dataset(ЗАМЕНИЛ НА СОБСТВЕННЫЙ)\n",
        "\n",
        "Предназначен для работы с наборами данных, обеспечивает чтение изображений и соответствующих меток, а также формирование пакетов (батчей)."
      ]
    },
    {
      "cell_type": "code",
      "execution_count": null,
      "metadata": {
        "id": "8N169efsw1ej"
      },
      "outputs": [],
      "source": [
        "'''\n",
        "class Dataset:\n",
        "\n",
        "    def __init__(self, name, transform=None):\n",
        "        self.name = name\n",
        "        self.is_loaded = False\n",
        "        self.transform = transform  # Добавляем трансформации\n",
        "        ''' Если уже лежат в локальной директории '''\n",
        "        #url = f\"https://drive.google.com/uc?export=download&confirm=pbef&id={DATASETS_LINKS[name]}\"\n",
        "        #output = f'{name}.npz'\n",
        "        #gdown.download(url, output, quiet=False)\n",
        "        #print(f'Loading dataset {self.name} from npz.')\n",
        "\n",
        "        np_obj = np.load(f'{name}.npz')\n",
        "        self.images = np_obj['data']\n",
        "        self.labels = np_obj['labels']\n",
        "        self.n_files = self.images.shape[0]\n",
        "        self.is_loaded = True\n",
        "        print(f'Done. Dataset {name} consists of {self.n_files} images.')\n",
        "\n",
        "\n",
        "    def __len__(self):\n",
        "        # Возвращаем количество файлов в датасете\n",
        "        return self.n_files\n",
        "\n",
        "    def __getitem__(self, idx):\n",
        "        # Получаем i-е изображение и метку\n",
        "        img, lbl = self.images[idx], self.labels[idx]\n",
        "\n",
        "        # Преобразуем изображение из numpy в PIL для использования transforms\n",
        "        img = Image.fromarray(img)\n",
        "\n",
        "        # Применяем трансформации, если они указаны\n",
        "        if self.transform:\n",
        "            img = self.transform(img)\n",
        "\n",
        "        return img, lbl\n",
        "    def image(self, i):\n",
        "        # read i-th image in dataset and return it as numpy array\n",
        "        if self.is_loaded:\n",
        "            return self.images[i, :, :, :]\n",
        "\n",
        "    def images_seq(self, n=None):\n",
        "        # sequential access to images inside dataset (is needed for testing)\n",
        "        for i in range(self.n_files if not n else n):\n",
        "            yield self.image(i)\n",
        "\n",
        "    def random_image_with_label(self):\n",
        "        # get random image with label from dataset\n",
        "        i = np.random.randint(self.n_files)\n",
        "        return self.image(i), self.labels[i]\n",
        "\n",
        "    def random_batch_with_labels(self, n):\n",
        "        # create random batch of images with labels (is needed for training)\n",
        "        indices = np.random.choice(self.n_files, n)\n",
        "        imgs = []\n",
        "        for i in indices:\n",
        "            img = self.image(i)\n",
        "            imgs.append(self.image(i))\n",
        "        logits = np.array([self.labels[i] for i in indices])\n",
        "        return np.stack(imgs), logits\n",
        "\n",
        "    def image_with_label(self, i: int):\n",
        "        # return i-th image with label from dataset\n",
        "        return self.image(i), self.labels[i]\n",
        "'''"
      ]
    },
    {
      "cell_type": "markdown",
      "metadata": {
        "id": "M-LvGqeHYgus"
      },
      "source": [
        "### Пример использвания класса Dataset\n",
        "Загрузим обучающий набор данных, получим произвольное изображение с меткой. После чего визуализируем изображение, выведем метку. В будущем, этот кусок кода можно закомментировать или убрать."
      ]
    },
    {
      "cell_type": "code",
      "execution_count": null,
      "metadata": {
        "id": "HhObWEjGJ1um",
        "colab": {
          "base_uri": "https://localhost:8080/",
          "height": 310
        },
        "outputId": "44e03d31-a097-4cd0-e0c9-1cdf6a08da64"
      },
      "outputs": [
        {
          "output_type": "stream",
          "name": "stdout",
          "text": [
            "Done. Dataset train_tiny consists of 900 images.\n",
            "\n",
            "Got numpy array of shape (224, 224, 3), and label with code 3.\n",
            "Label code corresponds to LYM class.\n"
          ]
        },
        {
          "output_type": "display_data",
          "data": {
            "text/plain": [
              "<PIL.Image.Image image mode=RGB size=224x224>"
            ],
            "image/png": "[encoded data removed]",
            "image/jpeg": "[encoded data removed]"
          },
          "metadata": {}
        }
      ],
      "source": [
        "'''\n",
        "d_train_tiny = Dataset('train_tiny')\n",
        "\n",
        "img, lbl = d_train_tiny.random_image_with_label()\n",
        "print()\n",
        "print(f'Got numpy array of shape {img.shape}, and label with code {lbl}.')\n",
        "print(f'Label code corresponds to {TISSUE_CLASSES[lbl]} class.')\n",
        "\n",
        "pil_img = Image.fromarray(img)\n",
        "IPython.display.display(pil_img)\n",
        "'''"
      ]
    },
    {
      "cell_type": "markdown",
      "source": [
        "# Модель"
      ],
      "metadata": {
        "id": "q5J1xUtb0veZ"
      }
    },
    {
      "cell_type": "code",
      "source": [
        "import numpy as np\n",
        "import torch\n",
        "import torch.nn as nn\n",
        "import torch.optim as optim\n",
        "import torch.utils.data as data\n",
        "from torchvision import transforms, models\n",
        "from torchvision.models import EfficientNet_B3_Weights\n",
        "from sklearn.model_selection import KFold, train_test_split\n",
        "from sklearn.metrics import confusion_matrix, classification_report\n",
        "import wandb\n",
        "import os\n",
        "from PIL import Image\n",
        "import matplotlib.pyplot as plt"
      ],
      "metadata": {
        "id": "BuNM83z80zNJ"
      },
      "execution_count": 4,
      "outputs": []
    },
    {
      "cell_type": "code",
      "source": [
        "#LBL12\n",
        "# Инициализация WANDB(крутой сервис для визуализации и подбора гипер-параметров)\n",
        "wandb.init(project=\"histology-classification\", config={\n",
        "    \"epochs\": 20,\n",
        "    \"batch_size\": 32,\n",
        "    \"learning_rate\": 1e-4,\n",
        "    \"num_folds\": 5,\n",
        "    \"augmentation_epochs\": 12,  # Эпохи с аугментацией(меньше чем количество эпох обучения)\n",
        "    \"optimizer\": \"adam\"\n",
        "})\n",
        "\n",
        "# Получаем гиперпараметры из wandb\n",
        "config = wandb.config"
      ],
      "metadata": {
        "colab": {
          "base_uri": "https://localhost:8080/",
          "height": 139
        },
        "id": "wZWsB6Ik1GI8",
        "outputId": "20e53536-136a-4882-9c87-63a0d2f3ec9b"
      },
      "execution_count": 5,
      "outputs": [
        {
          "output_type": "stream",
          "name": "stderr",
          "text": [
            "\u001b[34m\u001b[1mwandb\u001b[0m: Using wandb-core as the SDK backend.  Please refer to https://wandb.me/wandb-core for more information.\n",
            "\u001b[34m\u001b[1mwandb\u001b[0m: Currently logged in as: \u001b[33mvortex_d11\u001b[0m (\u001b[33mvortex_d11-m-v-lomonosovmoscow-state-university\u001b[0m). Use \u001b[1m`wandb login --relogin`\u001b[0m to force relogin\n"
          ]
        },
        {
          "output_type": "display_data",
          "data": {
            "text/plain": [
              "<IPython.core.display.HTML object>"
            ],
            "text/html": [
              "Tracking run with wandb version 0.18.7"
            ]
          },
          "metadata": {}
        },
        {
          "output_type": "display_data",
          "data": {
            "text/plain": [
              "<IPython.core.display.HTML object>"
            ],
            "text/html": [
              "Run data is saved locally in <code>/content/drive/MyDrive/DL/test/wandb/run-20241202_204929-m1aqag75</code>"
            ]
          },
          "metadata": {}
        },
        {
          "output_type": "display_data",
          "data": {
            "text/plain": [
              "<IPython.core.display.HTML object>"
            ],
            "text/html": [
              "Syncing run <strong><a href='https://wandb.ai/vortex_d11-m-v-lomonosovmoscow-state-university/histology-classification/runs/m1aqag75' target=\"_blank\">solar-sun-9</a></strong> to <a href='https://wandb.ai/vortex_d11-m-v-lomonosovmoscow-state-university/histology-classification' target=\"_blank\">Weights & Biases</a> (<a href='https://wandb.me/developer-guide' target=\"_blank\">docs</a>)<br/>"
            ]
          },
          "metadata": {}
        },
        {
          "output_type": "display_data",
          "data": {
            "text/plain": [
              "<IPython.core.display.HTML object>"
            ],
            "text/html": [
              " View project at <a href='https://wandb.ai/vortex_d11-m-v-lomonosovmoscow-state-university/histology-classification' target=\"_blank\">https://wandb.ai/vortex_d11-m-v-lomonosovmoscow-state-university/histology-classification</a>"
            ]
          },
          "metadata": {}
        },
        {
          "output_type": "display_data",
          "data": {
            "text/plain": [
              "<IPython.core.display.HTML object>"
            ],
            "text/html": [
              " View run at <a href='https://wandb.ai/vortex_d11-m-v-lomonosovmoscow-state-university/histology-classification/runs/m1aqag75' target=\"_blank\">https://wandb.ai/vortex_d11-m-v-lomonosovmoscow-state-university/histology-classification/runs/m1aqag75</a>"
            ]
          },
          "metadata": {}
        }
      ]
    },
    {
      "cell_type": "code",
      "source": [
        "class Dataset(data.Dataset):\n",
        "    def __init__(self, images, labels, transform=None):\n",
        "        self.images = images\n",
        "        self.labels = labels\n",
        "        self.transform = transform\n",
        "        self.n_files = self.images.shape[0]\n",
        "\n",
        "    def __len__(self):\n",
        "        return self.n_files\n",
        "\n",
        "    def __getitem__(self, idx):\n",
        "        img, lbl = self.images[idx], self.labels[idx]\n",
        "        img = Image.fromarray(img)\n",
        "        if self.transform:\n",
        "            img = self.transform(img)\n",
        "        return img, lbl"
      ],
      "metadata": {
        "id": "dCh710mv1dS0"
      },
      "execution_count": 6,
      "outputs": []
    },
    {
      "cell_type": "code",
      "source": [
        "class Trainer:\n",
        "    def __init__(self, train_dataset=None, val_dataset=None, num_classes=9, config=None):\n",
        "        self.train_dataset = train_dataset\n",
        "        self.val_dataset = val_dataset\n",
        "        self.num_classes = num_classes\n",
        "        self.config = config or {}\n",
        "        self.device = torch.device(\"cuda\" if torch.cuda.is_available() else \"cpu\")\n",
        "        self.model = self._initialize_model()\n",
        "        self.criterion = nn.CrossEntropyLoss()\n",
        "\n",
        "        if self.train_dataset is not None and self.val_dataset is not None:\n",
        "            self.optimizer = self._initialize_optimizer()\n",
        "            self.scheduler = optim.lr_scheduler.ReduceLROnPlateau(self.optimizer, 'min')\n",
        "\n",
        "        self.checkpoint_dir = \"/content/drive/MyDrive/checkpoints\" #Гугл-диск\n",
        "        os.makedirs(self.checkpoint_dir, exist_ok=True)\n",
        "\n",
        "    def _initialize_model(self):\n",
        "        weights = EfficientNet_B3_Weights.IMAGENET1K_V1\n",
        "        model = models.efficientnet_b3(weights=weights)\n",
        "        model.classifier[1] = nn.Linear(model.classifier[1].in_features, self.num_classes)\n",
        "        return model.to(self.device)\n",
        "\n",
        "    def _initialize_optimizer(self):\n",
        "        if self.config.optimizer == \"adam\":\n",
        "            optimizer = optim.Adam(self.model.parameters(), lr=self.config.learning_rate)\n",
        "        elif self.config.optimizer == \"sgd\":\n",
        "            optimizer = optim.SGD(self.model.parameters(), lr=self.config.learning_rate, momentum=0.9)\n",
        "        else:\n",
        "            raise ValueError(f\"Unsupported optimizer: {self.config.optimizer}\")\n",
        "        return optimizer\n",
        "\n",
        "    def train(self):\n",
        "        train_loader = data.DataLoader(self.train_dataset, batch_size=self.config.batch_size, shuffle=True)\n",
        "        val_loader = data.DataLoader(self.val_dataset, batch_size=self.config.batch_size, shuffle=False)\n",
        "\n",
        "        best_val_loss = float('inf')  # Чтобы сохранить лучшую модель\n",
        "        for epoch in range(self.config.epochs):\n",
        "            print(f'Epoch {epoch + 1}/{self.config.epochs}')\n",
        "            self._train_one_epoch(train_loader, epoch)\n",
        "            val_loss = self._validate(val_loader)\n",
        "            self.scheduler.step(val_loss)\n",
        "            wandb.log({\"epoch\": epoch, \"val_loss\": val_loss})\n",
        "\n",
        "            # Сохраняем лучшую модель\n",
        "            if val_loss < best_val_loss:\n",
        "                best_val_loss = val_loss\n",
        "                self._save_checkpoint(epoch, is_best=True)\n",
        "\n",
        "        # Сохраняем модель после окончания обучения\n",
        "        self._save_model()\n",
        "        # Тест модели\n",
        "        self._test(val_loader)\n",
        "\n",
        "    def _train_one_epoch(self, loader, epoch):\n",
        "        self.model.train()\n",
        "        running_loss = 0.0\n",
        "        for inputs, labels in loader:\n",
        "            inputs, labels = inputs.to(self.device), labels.to(self.device)\n",
        "\n",
        "            # Так как модель предобученная, то применяется лишь аугментация до \"средних\" эпох, ибо слишком привыкает если оставлять до конца\n",
        "            if epoch >= self.config.epochs - self.config.augmentation_epochs:\n",
        "                inputs = self._augment_data(inputs)\n",
        "\n",
        "            self.optimizer.zero_grad()\n",
        "            outputs = self.model(inputs)\n",
        "            loss = self.criterion(outputs, labels)\n",
        "            loss.backward()\n",
        "            self.optimizer.step()\n",
        "\n",
        "            running_loss += loss.item()\n",
        "            wandb.log({\"train_loss\": loss.item()})\n",
        "\n",
        "        epoch_loss = running_loss / len(loader)\n",
        "        print(f'Training Loss: {epoch_loss:.4f}')\n",
        "\n",
        "    def _validate(self, loader):\n",
        "        self.model.eval()\n",
        "        running_loss = 0.0\n",
        "        all_preds = []\n",
        "        all_labels = []\n",
        "        with torch.no_grad():\n",
        "            for inputs, labels in loader:\n",
        "                inputs, labels = inputs.to(self.device), labels.to(self.device)\n",
        "                outputs = self.model(inputs)\n",
        "                loss = self.criterion(outputs, labels)\n",
        "                running_loss += loss.item()\n",
        "\n",
        "                preds = torch.argmax(outputs, dim=1)\n",
        "                all_preds.extend(preds.cpu().numpy())\n",
        "                all_labels.extend(labels.cpu().numpy())\n",
        "        #LBL5\n",
        "        val_loss = running_loss / len(loader)\n",
        "        val_accuracy = np.mean(np.array(all_preds) == np.array(all_labels))\n",
        "        print(f'Validation Loss: {val_loss:.4f}, Accuracy: {val_accuracy:.4f}')\n",
        "        wandb.log({\"val_accuracy\": val_accuracy})\n",
        "        return val_loss\n",
        "\n",
        "    def _test(self, loader):\n",
        "        self.model.eval()\n",
        "        all_preds = []\n",
        "        all_labels = []\n",
        "        with torch.no_grad():\n",
        "            for inputs, labels in loader:\n",
        "                inputs, labels = inputs.to(self.device), labels.to(self.device)\n",
        "                outputs = self.model(inputs)\n",
        "                preds = torch.argmax(outputs, dim=1)\n",
        "                all_preds.extend(preds.cpu().numpy())\n",
        "                all_labels.extend(labels.cpu().numpy())\n",
        "\n",
        "        # Cinfussion matrix(почти как в лекциях)\n",
        "        cm = confusion_matrix(all_labels, all_preds)\n",
        "        cr = classification_report(all_labels, all_preds, output_dict=True)\n",
        "        wandb.log({\"confusion_matrix\": wandb.plot.confusion_matrix(probs=None,\n",
        "                                                                   y_true=all_labels,\n",
        "                                                                   preds=all_preds,\n",
        "                                                                   class_names=[str(i) for i in range(self.num_classes)])})\n",
        "        #LBL8\n",
        "        # Чувствительность и специфичность\n",
        "        sensitivity = np.diag(cm) / np.sum(cm, axis=1)\n",
        "        specificity = np.diag(cm) / np.sum(cm, axis=0)\n",
        "        print(f'Sensitivity: {sensitivity}')\n",
        "        print(f'Specificity: {specificity}')\n",
        "        wandb.log({\"sensitivity\": sensitivity.mean(), \"specificity\": specificity.mean()})\n",
        "\n",
        "        # Выгружаем результаты тестирования, нужные для первичной \"оценки\" модели\n",
        "        #LBL9\n",
        "        np.savez(\"val_results.npz\", preds=all_preds, labels=all_labels)\n",
        "\n",
        "    def _augment_data(self, inputs):\n",
        "        #LBL10\n",
        "        augmentation = transforms.Compose([\n",
        "            transforms.RandomHorizontalFlip(),\n",
        "            transforms.RandomVerticalFlip(),\n",
        "            transforms.RandomRotation(15)\n",
        "        ])\n",
        "        augmented_inputs = []\n",
        "        for img in inputs:\n",
        "            img = transforms.ToPILImage()(img.cpu())\n",
        "            img = augmentation(img)\n",
        "            img = transforms.ToTensor()(img)\n",
        "            augmented_inputs.append(img)\n",
        "        return torch.stack(augmented_inputs).to(self.device)\n",
        "    #LBL3\n",
        "    def _save_checkpoint(self, epoch, is_best=False):\n",
        "        checkpoint_path = os.path.join(self.checkpoint_dir, f'model_epoch_{epoch}.pth')\n",
        "        torch.save({\n",
        "            'epoch': epoch,\n",
        "            'model_state_dict': self.model.state_dict(),\n",
        "            'optimizer_state_dict': self.optimizer.state_dict(),\n",
        "        }, checkpoint_path)\n",
        "        print(f'Checkpoint saved at {checkpoint_path}')\n",
        "\n",
        "        if is_best:\n",
        "            best_model_path = os.path.join(self.checkpoint_dir, f'best_model.pth')\n",
        "            torch.save(self.model.state_dict(), best_model_path)\n",
        "            print(f'Best model saved at {best_model_path}')\n",
        "\n",
        "        # WANDB moment\n",
        "        artifact = wandb.Artifact('model', type='model')\n",
        "        artifact.add_file(checkpoint_path)\n",
        "        wandb.log_artifact(artifact)\n",
        "\n",
        "    def _save_model(self):\n",
        "        # Сохранение финальных весов модели для дальнейшей работы\n",
        "        final_model_path = os.path.join(self.checkpoint_dir, f'final_model.pth')\n",
        "        torch.save(self.model.state_dict(), final_model_path)\n",
        "        print(f'Final model saved at {final_model_path}')\n",
        "\n",
        "        # Нужно для wandb\n",
        "        artifact = wandb.Artifact('final_model', type='model')\n",
        "        artifact.add_file(final_model_path)\n",
        "        wandb.log_artifact(artifact)\n",
        "\n",
        "    def load_model(self, model_path):\n",
        "        #LBL11\n",
        "        # Загрузка весов модели для инференса или дообучения\n",
        "        self.model.load_state_dict(torch.load(model_path, map_location=self.device))\n",
        "        self.model.to(self.device)\n",
        "        print(f'Model loaded from {model_path}')\n",
        "    #LBL4\n",
        "    def load_checkpoint(self, checkpoint_path):\n",
        "        checkpoint = torch.load(checkpoint_path, map_location=self.device)\n",
        "        self.model.load_state_dict(checkpoint['model_state_dict'])\n",
        "        self.optimizer.load_state_dict(checkpoint['optimizer_state_dict'])\n",
        "        start_epoch = checkpoint['epoch'] + 1\n",
        "        print(f'Checkpoint loaded, resuming training from epoch {start_epoch}')\n",
        "        # Если есть чекпоинты, то можем стартовать с последнего. Нужно, если вдруг аварийно все сломается или закроется\n",
        "        return start_epoch\n",
        "\n",
        "    def test_on_dataset(self, dataset, limit=None):\n",
        "        self.model.eval()\n",
        "        predictions = []\n",
        "        true_labels = []\n",
        "        n = len(dataset) if limit is None else int(len(dataset) * limit)\n",
        "        loader = data.DataLoader(dataset, batch_size=1, shuffle=False)\n",
        "        for i, (img, label) in enumerate(loader):\n",
        "            if i >= n:\n",
        "                break\n",
        "            img = img.to(self.device)\n",
        "            with torch.no_grad():\n",
        "                output = self.model(img)\n",
        "                pred = torch.argmax(output, dim=1).cpu().item()\n",
        "                predictions.append(pred)\n",
        "                true_labels.append(label.item())\n",
        "        return predictions, true_labels\n",
        "\n",
        "    def test_on_image(self, img):\n",
        "        self.model.eval()\n",
        "        img_tensor = self.transforms(img).unsqueeze(0).to(self.device)\n",
        "        with torch.no_grad():\n",
        "            output = self.model(img_tensor)\n",
        "            pred = torch.argmax(output, dim=1).cpu().item()\n",
        "        return pred"
      ],
      "metadata": {
        "id": "mPlV77ej1icq"
      },
      "execution_count": 7,
      "outputs": []
    },
    {
      "cell_type": "code",
      "source": [
        "def inference(model, dataloader, device):\n",
        "    model.eval()\n",
        "    predictions = []\n",
        "    with torch.no_grad():\n",
        "        for inputs, _ in dataloader:\n",
        "            inputs = inputs.to(device)\n",
        "            outputs = model(inputs)\n",
        "            preds = torch.argmax(outputs, dim=1)\n",
        "            predictions.extend(preds.cpu().numpy())\n",
        "    return predictions"
      ],
      "metadata": {
        "id": "o8tPEq3c1mp8"
      },
      "execution_count": 8,
      "outputs": []
    },
    {
      "cell_type": "code",
      "source": [
        "# Основная функция\n",
        "def main():\n",
        "    # Приводим к адекватному представлению, для того чтобы модель \"скушала\" наши данные\n",
        "    data_transforms = transforms.Compose([\n",
        "        transforms.Resize((224, 224)),\n",
        "        transforms.ToTensor(),\n",
        "    ])\n",
        "\n",
        "    # Обучаем на самом большом(из предложенных) датасете - train\n",
        "    np_obj = np.load('train.npz')\n",
        "    images = np_obj['data']\n",
        "    labels = np_obj['labels']\n",
        "                                                                #LBL1\n",
        "    train_images, test_images, train_labels, test_labels = train_test_split(\n",
        "        images, labels, test_size=0.1, stratify=labels, random_state=42)\n",
        "\n",
        "    test_dataset = Dataset(test_images, test_labels, transform=data_transforms)\n",
        "    test_loader = data.DataLoader(test_dataset, batch_size=config.batch_size, shuffle=False)\n",
        "\n",
        "    kfold_images = train_images\n",
        "    kfold_labels = train_labels\n",
        "    #LBL2\n",
        "    kfold = KFold(n_splits=config.num_folds, shuffle=True, random_state=42)\n",
        "    for fold, (train_idx, val_idx) in enumerate(kfold.split(kfold_images)):\n",
        "        print(f'Fold {fold + 1}/{config.num_folds}')\n",
        "\n",
        "        train_images_fold = kfold_images[train_idx]\n",
        "        train_labels_fold = kfold_labels[train_idx]\n",
        "        val_images_fold = kfold_images[val_idx]\n",
        "        val_labels_fold = kfold_labels[val_idx]\n",
        "\n",
        "        train_dataset = Dataset(train_images_fold, train_labels_fold, transform=data_transforms)\n",
        "        val_dataset = Dataset(val_images_fold, val_labels_fold, transform=data_transforms)\n",
        "\n",
        "        trainer = Trainer(train_dataset, val_dataset, config=config)\n",
        "\n",
        "        latest_checkpoint = None\n",
        "        if os.path.exists(trainer.checkpoint_dir):\n",
        "            checkpoints = [ckpt for ckpt in os.listdir(trainer.checkpoint_dir) if 'model_epoch' in ckpt and ckpt.endswith('.pth')]\n",
        "            if checkpoints:\n",
        "                latest_checkpoint = max(checkpoints, key=lambda x: int(x.split('_')[-1].split('.')[0]))\n",
        "                latest_checkpoint = os.path.join(trainer.checkpoint_dir, latest_checkpoint)\n",
        "\n",
        "        if latest_checkpoint:\n",
        "            start_epoch = trainer.load_checkpoint(latest_checkpoint)\n",
        "        else:\n",
        "            start_epoch = 0\n",
        "\n",
        "        trainer.train()\n",
        "\n",
        "        print(\"Testing on independent test set:\")\n",
        "        trainer.load_model(os.path.join(trainer.checkpoint_dir, 'best_model.pth'))\n",
        "        test_results(trainer.model, test_loader, trainer.device)\n",
        "\n",
        "        # Визуализация результатов тестирования\n",
        "        visualize_results()\n",
        "\n",
        "        # если не хотим тратить ресурсы(а модель хорошо обучается и без дополнительных fold'ов)\n",
        "        break\n",
        "        # если нужны фолды(к-в), то убрать break\n",
        "\n",
        "def test_results(model, loader, device):\n",
        "    model.eval()\n",
        "    all_preds = []\n",
        "    all_labels = []\n",
        "    with torch.no_grad():\n",
        "        for inputs, labels in loader:\n",
        "            inputs, labels = inputs.to(device), labels.to(device)\n",
        "            outputs = model(inputs)\n",
        "            preds = torch.argmax(outputs, dim=1)\n",
        "            all_preds.extend(preds.cpu().numpy())\n",
        "            all_labels.extend(labels.cpu().numpy())\n",
        "\n",
        "    cm = confusion_matrix(all_labels, all_preds)\n",
        "    cr = classification_report(all_labels, all_preds, output_dict=True)\n",
        "    #LBL6\n",
        "    wandb.log({\"test_confusion_matrix\": wandb.plot.confusion_matrix(probs=None,\n",
        "                                                                    y_true=all_labels,\n",
        "                                                                    preds=all_preds,\n",
        "                                                                    class_names=[str(i) for i in range(model.classifier[1].out_features)])})\n",
        "\n",
        "    sensitivity = np.diag(cm) / np.sum(cm, axis=1)\n",
        "    specificity = np.diag(cm) / np.sum(cm, axis=0)\n",
        "    print(f'Test Sensitivity: {sensitivity}')\n",
        "    print(f'Test Specificity: {specificity}')\n",
        "    wandb.log({\"test_sensitivity\": sensitivity.mean(), \"test_specificity\": specificity.mean()})\n",
        "    #LBL7\n",
        "    np.savez(\"test_results.npz\", preds=all_preds, labels=all_labels)\n",
        "\n",
        "def visualize_results():\n",
        "    results = np.load(\"test_results.npz\")\n",
        "    preds = results['preds']\n",
        "    labels = results['labels']\n",
        "\n",
        "    # Построение графиков\n",
        "    plt.figure(figsize=(10, 5))\n",
        "    plt.hist([preds, labels], label=['Predictions', 'Ground Truth'], bins=np.arange(10)-0.5, rwidth=0.8)\n",
        "    plt.xticks(range(9))\n",
        "    plt.legend()\n",
        "    plt.title('Distribution of Predictions and Ground Truth on Test Set')\n",
        "    plt.savefig('test_results.png')\n",
        "    wandb.log({\"test_results\": wandb.Image('test_results.png')})"
      ],
      "metadata": {
        "id": "xELBRKG21pog"
      },
      "execution_count": 20,
      "outputs": []
    },
    {
      "cell_type": "markdown",
      "source": [
        "# ОБУЧЕНИЕ"
      ],
      "metadata": {
        "id": "mp6hhws6aGgU"
      }
    },
    {
      "cell_type": "code",
      "source": [
        "if __name__ == \"__main__\":\n",
        "    main()"
      ],
      "metadata": {
        "colab": {
          "base_uri": "https://localhost:8080/",
          "height": 304
        },
        "id": "NBbN2AtL1skA",
        "outputId": "4a9af242-3cf8-4271-8dd0-8a464361da73"
      },
      "execution_count": 21,
      "outputs": [
        {
          "output_type": "error",
          "ename": "FileNotFoundError",
          "evalue": "[Errno 2] No such file or directory: 'train.npz'",
          "traceback": [
            "\u001b[0;31m---------------------------------------------------------------------------\u001b[0m",
            "\u001b[0;31mFileNotFoundError\u001b[0m                         Traceback (most recent call last)",
            "\u001b[0;32m<ipython-input-21-972361fa1b80>\u001b[0m in \u001b[0;36m<cell line: 1>\u001b[0;34m()\u001b[0m\n\u001b[1;32m      1\u001b[0m \u001b[0;32mif\u001b[0m \u001b[0m__name__\u001b[0m \u001b[0;34m==\u001b[0m \u001b[0;34m\"__main__\"\u001b[0m\u001b[0;34m:\u001b[0m\u001b[0;34m\u001b[0m\u001b[0;34m\u001b[0m\u001b[0m\n\u001b[0;32m----> 2\u001b[0;31m     \u001b[0mmain\u001b[0m\u001b[0;34m(\u001b[0m\u001b[0;34m)\u001b[0m\u001b[0;34m\u001b[0m\u001b[0;34m\u001b[0m\u001b[0m\n\u001b[0m",
            "\u001b[0;32m<ipython-input-20-6384de0d04aa>\u001b[0m in \u001b[0;36mmain\u001b[0;34m()\u001b[0m\n\u001b[1;32m      8\u001b[0m \u001b[0;34m\u001b[0m\u001b[0m\n\u001b[1;32m      9\u001b[0m     \u001b[0;31m# Обучаем на самом большом(из предложенных) датасете - train\u001b[0m\u001b[0;34m\u001b[0m\u001b[0;34m\u001b[0m\u001b[0m\n\u001b[0;32m---> 10\u001b[0;31m     \u001b[0mnp_obj\u001b[0m \u001b[0;34m=\u001b[0m \u001b[0mnp\u001b[0m\u001b[0;34m.\u001b[0m\u001b[0mload\u001b[0m\u001b[0;34m(\u001b[0m\u001b[0;34m'train.npz'\u001b[0m\u001b[0;34m)\u001b[0m\u001b[0;34m\u001b[0m\u001b[0;34m\u001b[0m\u001b[0m\n\u001b[0m\u001b[1;32m     11\u001b[0m     \u001b[0mimages\u001b[0m \u001b[0;34m=\u001b[0m \u001b[0mnp_obj\u001b[0m\u001b[0;34m[\u001b[0m\u001b[0;34m'data'\u001b[0m\u001b[0;34m]\u001b[0m\u001b[0;34m\u001b[0m\u001b[0;34m\u001b[0m\u001b[0m\n\u001b[1;32m     12\u001b[0m     \u001b[0mlabels\u001b[0m \u001b[0;34m=\u001b[0m \u001b[0mnp_obj\u001b[0m\u001b[0;34m[\u001b[0m\u001b[0;34m'labels'\u001b[0m\u001b[0;34m]\u001b[0m\u001b[0;34m\u001b[0m\u001b[0;34m\u001b[0m\u001b[0m\n",
            "\u001b[0;32m/usr/local/lib/python3.10/dist-packages/numpy/lib/npyio.py\u001b[0m in \u001b[0;36mload\u001b[0;34m(file, mmap_mode, allow_pickle, fix_imports, encoding, max_header_size)\u001b[0m\n\u001b[1;32m    425\u001b[0m             \u001b[0mown_fid\u001b[0m \u001b[0;34m=\u001b[0m \u001b[0;32mFalse\u001b[0m\u001b[0;34m\u001b[0m\u001b[0;34m\u001b[0m\u001b[0m\n\u001b[1;32m    426\u001b[0m         \u001b[0;32melse\u001b[0m\u001b[0;34m:\u001b[0m\u001b[0;34m\u001b[0m\u001b[0;34m\u001b[0m\u001b[0m\n\u001b[0;32m--> 427\u001b[0;31m             \u001b[0mfid\u001b[0m \u001b[0;34m=\u001b[0m \u001b[0mstack\u001b[0m\u001b[0;34m.\u001b[0m\u001b[0menter_context\u001b[0m\u001b[0;34m(\u001b[0m\u001b[0mopen\u001b[0m\u001b[0;34m(\u001b[0m\u001b[0mos_fspath\u001b[0m\u001b[0;34m(\u001b[0m\u001b[0mfile\u001b[0m\u001b[0;34m)\u001b[0m\u001b[0;34m,\u001b[0m \u001b[0;34m\"rb\"\u001b[0m\u001b[0;34m)\u001b[0m\u001b[0;34m)\u001b[0m\u001b[0;34m\u001b[0m\u001b[0;34m\u001b[0m\u001b[0m\n\u001b[0m\u001b[1;32m    428\u001b[0m             \u001b[0mown_fid\u001b[0m \u001b[0;34m=\u001b[0m \u001b[0;32mTrue\u001b[0m\u001b[0;34m\u001b[0m\u001b[0;34m\u001b[0m\u001b[0m\n\u001b[1;32m    429\u001b[0m \u001b[0;34m\u001b[0m\u001b[0m\n",
            "\u001b[0;31mFileNotFoundError\u001b[0m: [Errno 2] No such file or directory: 'train.npz'"
          ]
        }
      ]
    },
    {
      "cell_type": "markdown",
      "source": [
        "# МЕТРИКИ"
      ],
      "metadata": {
        "id": "PyYYXXuqaEBf"
      }
    },
    {
      "cell_type": "code",
      "source": [
        "data_transforms = transforms.Compose([\n",
        "    transforms.Resize((224, 224)),\n",
        "    transforms.ToTensor(),\n",
        "])\n",
        "\n",
        "np_obj = np.load('test.npz')\n",
        "test_images = np_obj['data']\n",
        "test_labels = np_obj['labels']\n",
        "test_dataset = Dataset(test_images, test_labels, transform=data_transforms)\n",
        "\n",
        "trainer = Trainer(config=config)\n",
        "trainer.transforms = data_transforms\n",
        "\n",
        "best_model_path = os.path.join(trainer.checkpoint_dir, 'best_model.pth')\n",
        "trainer.load_model(best_model_path)\n",
        "\n",
        "predictions, true_labels = trainer.test_on_dataset(test_dataset)\n",
        "\n",
        "from sklearn.metrics import confusion_matrix, classification_report\n",
        "\n",
        "cm = confusion_matrix(true_labels, predictions)\n",
        "print(\"Confusion Matrix:\")\n",
        "print(cm)\n",
        "cr = classification_report(true_labels, predictions, digits=4)\n",
        "print(\"Classification Report:\")\n",
        "print(cr)\n"
      ],
      "metadata": {
        "colab": {
          "base_uri": "https://localhost:8080/"
        },
        "id": "C3HbkIpc15Xk",
        "outputId": "de285ffc-a2d6-4e2c-ce2d-ab03fab87741"
      },
      "execution_count": 19,
      "outputs": [
        {
          "output_type": "stream",
          "name": "stderr",
          "text": [
            "<ipython-input-7-47f6d900142e>:178: FutureWarning: You are using `torch.load` with `weights_only=False` (the current default value), which uses the default pickle module implicitly. It is possible to construct malicious pickle data which will execute arbitrary code during unpickling (See https://github.com/pytorch/pytorch/blob/main/SECURITY.md#untrusted-models for more details). In a future release, the default value for `weights_only` will be flipped to `True`. This limits the functions that could be executed during unpickling. Arbitrary objects will no longer be allowed to be loaded via this mode unless they are explicitly allowlisted by the user via `torch.serialization.add_safe_globals`. We recommend you start setting `weights_only=True` for any use case where you don't have full control of the loaded file. Please open an issue on GitHub for any issues related to this experimental feature.\n",
            "  self.model.load_state_dict(torch.load(model_path, map_location=self.device))\n"
          ]
        },
        {
          "output_type": "stream",
          "name": "stdout",
          "text": [
            "Model loaded from /content/drive/MyDrive/checkpoints/best_model.pth\n",
            "Confusion Matrix:\n",
            "[[ 9  0  0  0  0  1  0  0  0]\n",
            " [ 0 10  0  0  0  0  0  0  0]\n",
            " [ 0  0 10  0  0  0  0  0  0]\n",
            " [ 0  0  0 10  0  0  0  0  0]\n",
            " [ 0  0  0  0 10  0  0  0  0]\n",
            " [ 0  0  0  0  0 10  0  0  0]\n",
            " [ 0  0  0  0  0  0 10  0  0]\n",
            " [ 0  0  0  0  0  0  0 10  0]\n",
            " [ 0  0  0  0  0  0  0  0 10]]\n",
            "Classification Report:\n",
            "              precision    recall  f1-score   support\n",
            "\n",
            "           0     1.0000    0.9000    0.9474        10\n",
            "           1     1.0000    1.0000    1.0000        10\n",
            "           2     1.0000    1.0000    1.0000        10\n",
            "           3     1.0000    1.0000    1.0000        10\n",
            "           4     1.0000    1.0000    1.0000        10\n",
            "           5     0.9091    1.0000    0.9524        10\n",
            "           6     1.0000    1.0000    1.0000        10\n",
            "           7     1.0000    1.0000    1.0000        10\n",
            "           8     1.0000    1.0000    1.0000        10\n",
            "\n",
            "    accuracy                         0.9889        90\n",
            "   macro avg     0.9899    0.9889    0.9889        90\n",
            "weighted avg     0.9899    0.9889    0.9889        90\n",
            "\n"
          ]
        }
      ]
    },
    {
      "cell_type": "code",
      "source": [
        "from typing import List\n",
        "from sklearn.metrics import balanced_accuracy_score"
      ],
      "metadata": {
        "id": "vST5otkrTuYw"
      },
      "execution_count": 10,
      "outputs": []
    },
    {
      "cell_type": "code",
      "source": [
        "class Metrics:\n",
        "\n",
        "    @staticmethod\n",
        "    def accuracy(gt: List[int], pred: List[int]):\n",
        "        assert len(gt) == len(pred), 'gt and prediction should be of equal length'\n",
        "        return sum(int(i[0] == i[1]) for i in zip(gt, pred)) / len(gt)\n",
        "\n",
        "    @staticmethod\n",
        "    def accuracy_balanced(gt: List[int], pred: List[int]):\n",
        "        return balanced_accuracy_score(gt, pred)\n",
        "\n",
        "    @staticmethod\n",
        "    def print_all(gt: List[int], pred: List[int], info: str):\n",
        "        print(f'metrics for {info}:')\n",
        "        print('\\t accuracy {:.4f}:'.format(Metrics.accuracy(gt, pred)))\n",
        "        print('\\t balanced accuracy {:.4f}:'.format(Metrics.accuracy_balanced(gt, pred)))"
      ],
      "metadata": {
        "id": "RccYr3TbTSiQ"
      },
      "execution_count": 11,
      "outputs": []
    },
    {
      "cell_type": "code",
      "source": [
        "def test_results1(model, loader, device, class_names):\n",
        "    model.eval()\n",
        "    all_preds = []\n",
        "    all_labels = []\n",
        "    with torch.no_grad():\n",
        "        for inputs, labels in loader:\n",
        "            inputs = inputs.to(device)\n",
        "            labels = labels.to(device)\n",
        "            outputs = model(inputs)\n",
        "            preds = torch.argmax(outputs, dim=1)\n",
        "            all_preds.extend(preds.cpu().numpy())\n",
        "            all_labels.extend(labels.cpu().numpy())\n",
        "\n",
        "\n",
        "    Metrics.print_all(all_labels, all_preds, 'test')"
      ],
      "metadata": {
        "id": "0rxipepTUUrV"
      },
      "execution_count": 12,
      "outputs": []
    },
    {
      "cell_type": "code",
      "source": [
        "def main():\n",
        "    data_transforms = transforms.Compose([\n",
        "        transforms.Resize((224, 224)),\n",
        "        transforms.ToTensor(),\n",
        "    ])\n",
        "\n",
        "    trainer = Trainer(config=config)\n",
        "    trainer.model.to(trainer.device)\n",
        "\n",
        "\n",
        "    best_model_path = os.path.join(trainer.checkpoint_dir, 'best_model.pth')\n",
        "    trainer.load_model(best_model_path)\n",
        "\n",
        "\n",
        "    test_data = np.load('test_tiny.npz')\n",
        "    test_images = test_data['data']\n",
        "    test_labels = test_data['labels']\n",
        "    test_dataset = Dataset(test_images, test_labels, transform=data_transforms)\n",
        "    test_loader = data.DataLoader(test_dataset, batch_size=config.batch_size, shuffle=False)\n",
        "\n",
        "    class_names = ['ADI', 'BACK', 'DEB', 'LYM', 'MUC', 'MUS', 'NORM', 'STR', 'TUM']\n",
        "\n",
        "    print(\"Evaluating model:\")\n",
        "    test_results1(trainer.model, test_loader, trainer.device, class_names)\n",
        "\n",
        "    #visualize_results()"
      ],
      "metadata": {
        "id": "Aj78itqDUWN7"
      },
      "execution_count": 34,
      "outputs": []
    },
    {
      "cell_type": "code",
      "source": [
        "main()"
      ],
      "metadata": {
        "colab": {
          "base_uri": "https://localhost:8080/"
        },
        "id": "krPMHDFmVIia",
        "outputId": "fb2bca39-64c6-4314-9ef4-e4127c82791c"
      },
      "execution_count": 35,
      "outputs": [
        {
          "output_type": "stream",
          "name": "stderr",
          "text": [
            "<ipython-input-8-47f6d900142e>:178: FutureWarning: You are using `torch.load` with `weights_only=False` (the current default value), which uses the default pickle module implicitly. It is possible to construct malicious pickle data which will execute arbitrary code during unpickling (See https://github.com/pytorch/pytorch/blob/main/SECURITY.md#untrusted-models for more details). In a future release, the default value for `weights_only` will be flipped to `True`. This limits the functions that could be executed during unpickling. Arbitrary objects will no longer be allowed to be loaded via this mode unless they are explicitly allowlisted by the user via `torch.serialization.add_safe_globals`. We recommend you start setting `weights_only=True` for any use case where you don't have full control of the loaded file. Please open an issue on GitHub for any issues related to this experimental feature.\n",
            "  self.model.load_state_dict(torch.load(model_path, map_location=self.device))\n"
          ]
        },
        {
          "output_type": "stream",
          "name": "stdout",
          "text": [
            "Model loaded from /content/drive/MyDrive/checkpoints/best_model.pth\n",
            "Evaluating model:\n",
            "metrics for test:\n",
            "\t accuracy 0.9889:\n",
            "\t balanced accuracy 0.9889:\n"
          ]
        }
      ]
    },
    {
      "cell_type": "markdown",
      "source": [
        "# ПРИМЕР С СОЗДАНИЕМ НЕСБАЛАНСИРОВАННОГО ДАТАСЕТА"
      ],
      "metadata": {
        "id": "8XiVIwA-aS_z"
      }
    },
    {
      "cell_type": "code",
      "source": [
        "from collections import Counter\n",
        "\n",
        "def create_unbalanced_dataset(images, labels, class_ratios):\n",
        "\n",
        "    unbalanced_images = []\n",
        "    unbalanced_labels = []\n",
        "    unique_classes = np.unique(labels)\n",
        "    for cls in unique_classes:\n",
        "        cls_indices = np.where(labels == cls)[0]\n",
        "        n_samples = int(len(cls_indices) * class_ratios.get(cls, 1.0))\n",
        "        selected_indices = np.random.choice(cls_indices, n_samples, replace=False)\n",
        "        unbalanced_images.append(images[selected_indices])\n",
        "        unbalanced_labels.append(labels[selected_indices])\n",
        "    unbalanced_images = np.concatenate(unbalanced_images)\n",
        "    unbalanced_labels = np.concatenate(unbalanced_labels)\n",
        "    return unbalanced_images, unbalanced_labels\n"
      ],
      "metadata": {
        "id": "EPn4xhvjaVh5"
      },
      "execution_count": null,
      "outputs": []
    },
    {
      "cell_type": "code",
      "source": [
        "test_data = np.load('test.npz')\n",
        "test_images = test_data['data']\n",
        "test_labels = test_data['labels']"
      ],
      "metadata": {
        "id": "TqIYS5GMaXwr"
      },
      "execution_count": null,
      "outputs": []
    },
    {
      "cell_type": "code",
      "source": [
        "class_ratios = {\n",
        "    1: 0.15, # 15% от 1класса(забыл какой там)\n",
        "    3: 0.5, # Оставить 50% от класса LYM\n",
        "    4: 0.10, # Оставить 10% от класса MUC\n",
        "    5: 0.05, # Оставить 5% от класса MUS\n",
        "}\n",
        "\n",
        "unbalanced_images, unbalanced_labels = create_unbalanced_dataset(test_images, test_labels, class_ratios)"
      ],
      "metadata": {
        "id": "8Ml6yrV6acrW"
      },
      "execution_count": null,
      "outputs": []
    },
    {
      "cell_type": "code",
      "source": [
        "unbalanced_dataset = Dataset(unbalanced_images, unbalanced_labels, transform=data_transforms)\n",
        "unbalanced_loader = data.DataLoader(unbalanced_dataset, batch_size=config.batch_size, shuffle=False)"
      ],
      "metadata": {
        "id": "K4iEvYxnafKC"
      },
      "execution_count": null,
      "outputs": []
    },
    {
      "cell_type": "code",
      "source": [
        "print(\"Evaluating model on unbalanced test dataset:\")\n",
        "test_results1(trainer.model, unbalanced_loader, trainer.device, class_names)"
      ],
      "metadata": {
        "colab": {
          "base_uri": "https://localhost:8080/"
        },
        "id": "J6E-aRA1ah6y",
        "outputId": "b11445ab-7a9f-4d2f-ac54-6cbae082dff1"
      },
      "execution_count": null,
      "outputs": [
        {
          "output_type": "stream",
          "name": "stdout",
          "text": [
            "Evaluating model on unbalanced test dataset:\n",
            "metrics for test:\n",
            "\t accuracy 0.9914:\n",
            "\t balanced accuracy 0.9944:\n"
          ]
        }
      ]
    },
    {
      "cell_type": "markdown",
      "source": [
        "# ЗАГРУЗКА МОДЕЛИ С ДРАЙВА"
      ],
      "metadata": {
        "id": "h6SkczMSqwFg"
      }
    },
    {
      "cell_type": "code",
      "source": [
        "import gdown"
      ],
      "metadata": {
        "id": "Kho1Cpfn-Nve"
      },
      "execution_count": 13,
      "outputs": []
    },
    {
      "cell_type": "code",
      "source": [
        "# Ссылка на модель в Google Drive\n",
        "\n",
        "url_model1 = \"https://drive.google.com/uc?export=download&id=117ANVkbp1Ktn4iQllV7JOEdXHL0wk8N6\"\n",
        "\n",
        "#Точно ссылка на модель(продублирую еще в README ссылку на директорию и /content/drive/MyDrive/checkpoints/best_model.pth)\n",
        "\n",
        "model_w = \"model_weights.pth\"\n",
        "\n",
        "gdown.download(url_model1, model_w, quiet=False)\n",
        "\n",
        "print(f\"Файл {model_w} успешно скачан.\")\n"
      ],
      "metadata": {
        "colab": {
          "base_uri": "https://localhost:8080/"
        },
        "id": "plA_C5Zdqv0g",
        "outputId": "e5102703-6ec8-4ea2-bcd7-eb2af2d1cdb5"
      },
      "execution_count": 14,
      "outputs": [
        {
          "output_type": "stream",
          "name": "stderr",
          "text": [
            "Downloading...\n",
            "From (original): https://drive.google.com/uc?export=download&id=117ANVkbp1Ktn4iQllV7JOEdXHL0wk8N6\n",
            "From (redirected): https://drive.google.com/uc?export=download&id=117ANVkbp1Ktn4iQllV7JOEdXHL0wk8N6&confirm=t&uuid=fbe7890b-dd88-4d92-98d4-b8959aaad7f5\n",
            "To: /content/drive/MyDrive/DL/test/model_weights.pth\n",
            "100%|██████████| 43.4M/43.4M [00:00<00:00, 73.2MB/s]"
          ]
        },
        {
          "output_type": "stream",
          "name": "stdout",
          "text": [
            "Файл model_weights.pth успешно скачан.\n"
          ]
        },
        {
          "output_type": "stream",
          "name": "stderr",
          "text": [
            "\n"
          ]
        }
      ]
    },
    {
      "cell_type": "code",
      "source": [
        "#Ссылки на представленные датасеты на моем(!) gd(из-за проблем с диском)\n",
        "import gdown\n",
        "\n",
        "DATASETS_LINKS = { #Возможно где-то ошибься с ссылками...\n",
        "    'train': '1kT3GtZWcLqeuPECEGNXpMNi3jp9LZY_B',\n",
        "    'train_small': '1IMMjP6oUFNmrDnmPRpuFt5vzHDGfELMY',\n",
        "    'train_tiny': '1Ay1nq2ngf4XyVgE-d8S_z19dfD5PNszy',\n",
        "    'test': '1EdCDUOB3bJLSkt117v-eSbIXiERur1Xr',\n",
        "    'test_small': '1vF2YdizwJmsuzEY0hasrFnpE-uPoGAO_',\n",
        "    'test_tiny': '1pxwyXm4bSsAtnlfujjfUrHldkHeJg76A'\n",
        "}\n",
        "\n",
        "name = \"test_tiny\"\n",
        "\n",
        "file_id = DATASETS_LINKS[name]\n",
        "output = f'{name}.npz'\n",
        "\n",
        "gdown.download(id=file_id, output=output, quiet=False)\n",
        "\n",
        "print(f'Загружаем датасет {name} из файла npz.')\n"
      ],
      "metadata": {
        "colab": {
          "base_uri": "https://localhost:8080/"
        },
        "id": "1FDP2CdLtEcG",
        "outputId": "b1194e98-1054-4ca0-ce4a-e453c8f0721b"
      },
      "execution_count": 15,
      "outputs": [
        {
          "output_type": "stream",
          "name": "stderr",
          "text": [
            "Downloading...\n",
            "From: https://drive.google.com/uc?id=1pxwyXm4bSsAtnlfujjfUrHldkHeJg76A\n",
            "To: /content/drive/MyDrive/DL/test/test_tiny.npz\n",
            "100%|██████████| 10.6M/10.6M [00:00<00:00, 52.0MB/s]"
          ]
        },
        {
          "output_type": "stream",
          "name": "stdout",
          "text": [
            "Загружаем датасет test_tiny из файла npz.\n"
          ]
        },
        {
          "output_type": "stream",
          "name": "stderr",
          "text": [
            "\n"
          ]
        }
      ]
    },
    {
      "cell_type": "code",
      "source": [
        "def main():\n",
        "    data_transforms = transforms.Compose([\n",
        "        transforms.Resize((224, 224)),\n",
        "        transforms.ToTensor(),\n",
        "    ])\n",
        "\n",
        "    trainer = Trainer(config=config)\n",
        "    trainer.model.to(trainer.device)\n",
        "\n",
        "\n",
        "    trainer.load_model(model_w)\n",
        "\n",
        "\n",
        "    test_data = np.load(f'{name}.npz')\n",
        "    test_images = test_data['data']\n",
        "    test_labels = test_data['labels']\n",
        "    test_dataset = Dataset(test_images, test_labels, transform=data_transforms)\n",
        "    test_loader = data.DataLoader(test_dataset, batch_size=config.batch_size, shuffle=False)\n",
        "\n",
        "    class_names = ['ADI', 'BACK', 'DEB', 'LYM', 'MUC', 'MUS', 'NORM', 'STR', 'TUM']\n",
        "\n",
        "    print(\"Evaluating model:\")\n",
        "    test_results1(trainer.model, test_loader, trainer.device, class_names)\n",
        "\n",
        "    #visualize_results()"
      ],
      "metadata": {
        "id": "vKdY3zHwtUCp"
      },
      "execution_count": 16,
      "outputs": []
    },
    {
      "cell_type": "code",
      "source": [
        "main()"
      ],
      "metadata": {
        "colab": {
          "base_uri": "https://localhost:8080/"
        },
        "id": "C1-6nYZ9urNc",
        "outputId": "69a64385-7bad-49bc-9521-2f4127b568cd"
      },
      "execution_count": 17,
      "outputs": [
        {
          "output_type": "stream",
          "name": "stderr",
          "text": [
            "<ipython-input-7-47f6d900142e>:178: FutureWarning: You are using `torch.load` with `weights_only=False` (the current default value), which uses the default pickle module implicitly. It is possible to construct malicious pickle data which will execute arbitrary code during unpickling (See https://github.com/pytorch/pytorch/blob/main/SECURITY.md#untrusted-models for more details). In a future release, the default value for `weights_only` will be flipped to `True`. This limits the functions that could be executed during unpickling. Arbitrary objects will no longer be allowed to be loaded via this mode unless they are explicitly allowlisted by the user via `torch.serialization.add_safe_globals`. We recommend you start setting `weights_only=True` for any use case where you don't have full control of the loaded file. Please open an issue on GitHub for any issues related to this experimental feature.\n",
            "  self.model.load_state_dict(torch.load(model_path, map_location=self.device))\n"
          ]
        },
        {
          "output_type": "stream",
          "name": "stdout",
          "text": [
            "Model loaded from model_weights.pth\n",
            "Evaluating model:\n",
            "metrics for test:\n",
            "\t accuracy 0.9889:\n",
            "\t balanced accuracy 0.9889:\n"
          ]
        }
      ]
    }
  ],
  "metadata": {
    "colab": {
      "provenance": [],
      "toc_visible": true,
      "gpuType": "T4"
    },
    "kernelspec": {
      "display_name": "Python 3",
      "name": "python3"
    },
    "language_info": {
      "name": "python",
      "version": "3.10.4"
    },
    "vscode": {
      "interpreter": {
        "hash": "7af69d84c46e0da4f71f361435e72c01e713b5d1fcbc89c051c042527a934273"
      }
    },
    "accelerator": "GPU"
  },
  "nbformat": 4,
  "nbformat_minor": 0
}